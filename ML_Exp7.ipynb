{
  "nbformat": 4,
  "nbformat_minor": 0,
  "metadata": {
    "colab": {
      "provenance": []
    },
    "kernelspec": {
      "name": "python3",
      "display_name": "Python 3"
    },
    "language_info": {
      "name": "python"
    }
  },
  "cells": [
    {
      "cell_type": "code",
      "execution_count": null,
      "metadata": {
        "colab": {
          "base_uri": "https://localhost:8080/"
        },
        "id": "H-TWOFZ-UYLy",
        "outputId": "f0d602c6-6714-4565-a66a-c47f932c80e0"
      },
      "outputs": [
        {
          "output_type": "stream",
          "name": "stdout",
          "text": [
            "   sepal length (cm)  sepal width (cm)  petal length (cm)  petal width (cm)  \\\n",
            "0                5.1               3.5                1.4               0.2   \n",
            "1                4.9               3.0                1.4               0.2   \n",
            "2                4.7               3.2                1.3               0.2   \n",
            "3                4.6               3.1                1.5               0.2   \n",
            "4                5.0               3.6                1.4               0.2   \n",
            "\n",
            "   target  \n",
            "0       0  \n",
            "1       0  \n",
            "2       0  \n",
            "3       0  \n",
            "4       0  \n",
            "Accuracy: 0.900\n",
            "Confusion Matrix\n",
            "[[10  0  0]\n",
            " [ 0  6  3]\n",
            " [ 0  0 11]]\n"
          ]
        }
      ],
      "source": [
        "import pandas as pd\n",
        "from sklearn.datasets import load_iris\n",
        "from sklearn.linear_model import SGDClassifier\n",
        "from sklearn.model_selection import train_test_split\n",
        "from sklearn.metrics import accuracy_score, confusion_matrix\n",
        "\n",
        "iris = load_iris()\n",
        "\n",
        "df = pd.DataFrame(data=iris.data, columns=iris.feature_names)\n",
        "df['target'] = iris.target\n",
        "\n",
        "print(df.head())\n",
        "\n",
        "X = df.drop('target', axis=1)\n",
        "Y = df['target']\n",
        "\n",
        "X_train, X_test, Y_train, Y_test = train_test_split(X, Y, test_size=0.2, random_state=42)\n",
        "\n",
        "sgd_clf = SGDClassifier(max_iter=1000, tol=1e-3)\n",
        "\n",
        "sgd_clf.fit(X_train, Y_train)\n",
        "\n",
        "y_pred = sgd_clf.predict(X_test)\n",
        "\n",
        "accuracy = accuracy_score(Y_test, y_pred)\n",
        "\n",
        "print(f\"Accuracy: {accuracy:.3f}\")\n",
        "\n",
        "cf = confusion_matrix(Y_test, y_pred)\n",
        "print(\"Confusion Matrix\")\n",
        "print(cf)\n"
      ]
    }
  ]
}